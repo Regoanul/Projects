{
 "cells": [
  {
   "cell_type": "markdown",
   "metadata": {},
   "source": [
    "## Task"
   ]
  },
  {
   "cell_type": "code",
   "execution_count": 2,
   "metadata": {},
   "outputs": [
    {
     "name": "stdout",
     "output_type": "stream",
     "text": [
      "Wrong Password Try Again 1\n",
      "Wrong Password Try Again 2\n",
      "Wrong Password Try Again 3\n",
      "Change the password\n"
     ]
    }
   ],
   "source": [
    "password = input(\"Enter the Password\")\n",
    " # password = \"open@\"\n",
    "if (password == \"open@\"):\n",
    "    print(\"Door is Opening\")\n",
    "else:\n",
    "    print(\"Wrong Password Try Again 1\")\n",
    "    \n",
    "    password = input(\"Enter the Password 2\")\n",
    "    if (password == \"open@\"):\n",
    "        print(\"Door is Opening\")\n",
    "    else:\n",
    "        print(\"Wrong Password Try Again 2\")\n",
    "        \n",
    "        password = input(\"Enter the Password 3\")\n",
    "        if (password == \"open@\"):\n",
    "            print(\"Door is Opening\")\n",
    "        else:\n",
    "            print(\"Wrong Password Try Again 3\")\n",
    "    \n",
    "            security_question = input(\"What is your favorite color?\")\n",
    "            # fav_color = \"black\"\n",
    "            if (security_question == \"black\"):\n",
    "                print(\"Change the password\")\n",
    "            else:\n",
    "                print(\"Door is Lock\")\n",
    "\n",
    "\n"
   ]
  },
  {
   "cell_type": "code",
   "execution_count": 3,
   "metadata": {},
   "outputs": [
    {
     "name": "stdout",
     "output_type": "stream",
     "text": [
      "Door is Opening\n"
     ]
    }
   ],
   "source": [
    "password_taken = 0\n",
    "while password_taken < 3:\n",
    "    password = input(\"Enter the Password\")\n",
    "    # password = \"open@\"\n",
    "    if (password == \"open@\"):\n",
    "        print(\"Door is Opening\")\n",
    "        break\n",
    "    else:\n",
    "        print(\"Wrong Password Try Again\")\n",
    "    password_taken = password_taken + 1\n",
    "\n",
    "    if (password_taken == 3):\n",
    "        security_question = input(\"What is your favorite color?\")\n",
    "        # fav_color = \"black\"\n",
    "        if (security_question == \"black\"):\n",
    "            print(\"Change the password\")\n",
    "        else:\n",
    "            print(\"Door is Lock\")"
   ]
  },
  {
   "cell_type": "code",
   "execution_count": 7,
   "metadata": {},
   "outputs": [],
   "source": [
    "password = input(\"Enter the Password\")\n",
    "\"open@\" in password\n",
    "#if True:\n",
    "    #print(\"Door is Opening\")\n",
    "if False:\n",
    "    print(\"Passward is incorrect\") # Not working\n"
   ]
  }
 ],
 "metadata": {
  "interpreter": {
   "hash": "9bf2ca0f4a7adc3ce2f237ca763c1538d3ef289a4e7face3612a01cdae9f6807"
  },
  "kernelspec": {
   "display_name": "Python 3.10.2 64-bit",
   "language": "python",
   "name": "python3"
  },
  "language_info": {
   "codemirror_mode": {
    "name": "ipython",
    "version": 3
   },
   "file_extension": ".py",
   "mimetype": "text/x-python",
   "name": "python",
   "nbconvert_exporter": "python",
   "pygments_lexer": "ipython3",
   "version": "3.10.2"
  },
  "orig_nbformat": 4
 },
 "nbformat": 4,
 "nbformat_minor": 2
}
