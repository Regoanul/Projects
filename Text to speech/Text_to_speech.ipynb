{
 "cells": [
  {
   "cell_type": "code",
   "execution_count": 4,
   "metadata": {},
   "outputs": [
    {
     "data": {
      "text/plain": [
       "0"
      ]
     },
     "execution_count": 4,
     "metadata": {},
     "output_type": "execute_result"
    }
   ],
   "source": [
    "from gtts import gTTS\n",
    "import os\n",
    "\n",
    "mytext = input(\"Text to speech conversion\")\n",
    "#fh = open(\"text.txt\", \"r\")\n",
    "#mytext = fh.read().replace(\"\\n\", \" \")\n",
    "\n",
    "\n",
    "output = gTTS(text=mytext, lang=\"en\", slow=False)\n",
    "output.save(\"output.mp3\")\n",
    "\n",
    "#fh.close()\n",
    "os.system(\"start output.mp3\")\n",
    "\n",
    "## Special thanks to 'https://www.youtube.com/watch?v=_Q8wtPCyMdo&ab_channel=ProgrammingKnowledge'"
   ]
  }
 ],
 "metadata": {
  "kernelspec": {
   "display_name": "Python 3.10.2 64-bit",
   "language": "python",
   "name": "python3"
  },
  "language_info": {
   "codemirror_mode": {
    "name": "ipython",
    "version": 3
   },
   "file_extension": ".py",
   "mimetype": "text/x-python",
   "name": "python",
   "nbconvert_exporter": "python",
   "pygments_lexer": "ipython3",
   "version": "3.10.2"
  },
  "orig_nbformat": 4,
  "vscode": {
   "interpreter": {
    "hash": "a9cff5a362bc38ef45d817ae74b1af54d6a076e3d773891282bce078b815ba34"
   }
  }
 },
 "nbformat": 4,
 "nbformat_minor": 2
}
